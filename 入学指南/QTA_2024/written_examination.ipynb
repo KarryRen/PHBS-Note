{
 "cells": [
  {
   "metadata": {
    "ExecuteTime": {
     "end_time": "2024-08-11T12:58:59.475670Z",
     "start_time": "2024-08-11T12:58:59.464952Z"
    }
   },
   "cell_type": "code",
   "source": "",
   "id": "7c46d9a8e41e9e83",
   "outputs": [
    {
     "name": "stdout",
     "output_type": "stream",
     "text": [
      ":a\n"
     ]
    }
   ],
   "execution_count": 1
  },
  {
   "metadata": {},
   "cell_type": "markdown",
   "source": "",
   "id": "b94581d7d1fb3d8b"
  }
 ],
 "metadata": {
  "kernelspec": {
   "display_name": "Python 3",
   "language": "python",
   "name": "python3"
  },
  "language_info": {
   "codemirror_mode": {
    "name": "ipython",
    "version": 2
   },
   "file_extension": ".py",
   "mimetype": "text/x-python",
   "name": "python",
   "nbconvert_exporter": "python",
   "pygments_lexer": "ipython2",
   "version": "2.7.6"
  }
 },
 "nbformat": 4,
 "nbformat_minor": 5
}
